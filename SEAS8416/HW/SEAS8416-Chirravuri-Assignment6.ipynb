{
 "cells": [
  {
   "cell_type": "markdown",
   "id": "c26ddd96-8aec-4134-ad16-542dfaea41d6",
   "metadata": {},
   "source": [
    "<span style=\"color: blue;\">\n",
    "\n",
    "# **TASK-1A:**\n",
    "\n",
    "**Accept input from a user, and with the input as an argument, create a function that:**\n",
    "- Creates a random 32-byte salt value (remember to use a cryptographically secure random number generator).\n",
    "- Hash the input from the user with the salted value with SHA-256.\n",
    "- Store the value and the salt in a file.\n",
    "- Print both values.\n",
    "</span>"
   ]
  },
  {
   "cell_type": "code",
   "execution_count": 8,
   "id": "b9c93008-f812-405c-b88a-91b7c7e74eff",
   "metadata": {},
   "outputs": [
    {
     "name": "stdin",
     "output_type": "stream",
     "text": [
      "Enter a string to hash:  viswanath chirravuri\n"
     ]
    },
    {
     "name": "stdout",
     "output_type": "stream",
     "text": [
      "Salt in clear text: a7fad07c593556ef8e27350c738cf0f62f4b63aea18a48a7bc9c03cce510638d\n",
      "Salt encoded: p/rQfFk1Vu+OJzUMc4zw9i9LY66hikinvJwDzOUQY40=\n",
      "SHA-256 Hash when salted: 33bDT+I05iE+slutSxx3bdjOcv9iq9h8NOanEP5qWhE=\n",
      "SHA-256 Hash without salt: 9OhgCNf6DJGZK8HfdqyX+YxpyR7qaFh+Mhb6PmuX63w=\n"
     ]
    }
   ],
   "source": [
    "import os\n",
    "import hashlib\n",
    "import base64\n",
    "\n",
    "def secure_hash_and_store(user_input):\n",
    "    # Create a 32-byte salt using a cryptographically secure random generator\n",
    "    # os.urandom generates a random sequence of bytes suitable for cryptographic use\n",
    "    salt = os.urandom(32)\n",
    "\n",
    "    # Combine the salt with the user input (encoded as bytes) and hash it using SHA-256\n",
    "    # hashlib.sha256() generates a SHA-256 hash object which is a cryptographic hash function\n",
    "    hash_object_with_salt = hashlib.sha256(salt + user_input.encode('utf-8'))\n",
    "    hash_object_without_salt = hashlib.sha256(user_input.encode('utf-8'))\n",
    "    \n",
    "    # Extract the raw binary hash value from the hash object\n",
    "    hashed_value = hash_object_with_salt.digest()\n",
    "    hashed_value_without_salt = hash_object_without_salt.digest()\n",
    "\n",
    "    # Encode the salt into a Base64 string for safe and human-readable storage\n",
    "    # Base64 encoding ensures the binary data is represented in a printable format\n",
    "    salt_encoded = base64.b64encode(salt).decode('utf-8')\n",
    "\n",
    "    # Encode the hashed value into a Base64 string for safe and human-readable storage\n",
    "    hash_encoded = base64.b64encode(hashed_value).decode('utf-8')\n",
    "    hash_encoded_without_salt = base64.b64encode(hashed_value_without_salt).decode('utf-8')\n",
    "\n",
    "    # Open a file in write mode (\"w\") and store the salt and hashed value\n",
    "    # Each line contains one piece of information: the salt and the hash\n",
    "    with open(\"hashed_values.txt\", \"w\") as file:\n",
    "        file.write(f\"Salt: {salt_encoded}\\n\")  # Write the salt to the file\n",
    "        file.write(f\"Hash: {hash_encoded}\\n\")  # Write the hash to the file\n",
    "\n",
    "    print(f\"Salt in clear text: {salt.hex()}\")\n",
    "    # Print the encoded salt and hash to the console for user verification\n",
    "    print(f\"Salt encoded: {salt_encoded}\")\n",
    "    print(f\"SHA-256 Hash when salted: {hash_encoded}\")\n",
    "    print(f\"SHA-256 Hash without salt: {hash_encoded_without_salt}\")\n",
    "\n",
    "# Main block to execute the function if the script is run directly\n",
    "if __name__ == \"__main__\":\n",
    "    # Prompt the user to enter a string to hash\n",
    "    user_input = input(\"Enter a string to hash: \")\n",
    "    \n",
    "    # Call the function to hash the input and store the values\n",
    "    secure_hash_and_store(user_input)"
   ]
  },
  {
   "cell_type": "markdown",
   "id": "43cf6e82-0b21-4adb-9e8e-dfab0fbf86e0",
   "metadata": {},
   "source": [
    "<span style=\"color: blue;\">\n",
    "    \n",
    "# **TASK-1B:**\n",
    "\n",
    "Discuss why a salted hash is important when storing sensitive data such as passwords.  Explore a python library for Zero Knowledge Proofs and propose how this might improve authentication.  (Cite sources)\n",
    "</span>"
   ]
  },
  {
   "cell_type": "markdown",
   "id": "23ea6508-59b6-4dfa-be2b-70139e7db6ee",
   "metadata": {},
   "source": [
    "## Why Use a Salted Hash for Storing Sensitive Data\n",
    "\n",
    "When storing sensitive data like passwords, it is crucial to implement proper security measures to protect user information. One such measure is the use of a **salted hash**. Below, we discuss the importance of this practice:\n",
    "\n",
    "### 1. **Prevents Rainbow Table Attacks**\n",
    "A rainbow table is a precomputed database of hashes for commonly used passwords. Attackers use these tables to reverse-engineer hashed passwords. By adding a unique, random salt to each password before hashing, even if two users have the same password, their hashes will differ. This renders rainbow tables ineffective.\n",
    "- Reference: http://project-rainbowcrack.com/table.htm\n",
    "\n",
    "### 2. **Mitigates Hash Collision Risks**\n",
    "If the same password generates the same hash (without a salt), an attacker only needs to compromise one user to gain insights into others with the same password. Salting ensures that identical passwords result in unique hashes, significantly reducing this risk.\n",
    "\n",
    "### 3. **Defends Against Dictionary Attacks**\n",
    "Attackers often use dictionary attacks to guess passwords by hashing words from a dictionary and comparing them to stored hashes. A salt increases the complexity of the hash and makes this process computationally expensive and time-consuming.\n",
    "\n",
    "### 4. **Adds Randomness**\n",
    "Salts introduce randomness into the hashing process. Even if an attacker knows the hash function used (e.g., SHA-256), they cannot predict or precompute hashes due to the unknown and random salt.\n",
    "\n",
    "### 5. **Secures Data Even in Case of Database Breach**\n",
    "If a database is breached and contains unsalted hashes, attackers can exploit it easily by applying precomputed methods. With salted hashes, each entry requires a separate brute-force attempt, significantly slowing down the attack.\n",
    "\n",
    "### Example:\n",
    "- Without salt: `SHA 256 hash('viswanath chirravuri')` → `9OhgCNf6DJGZK8HfdqyX+YxpyR7qaFh+Mhb6PmuX63w=`\n",
    "- With salt: `hash(salt + 'viswanath chirravuri')` → (a completely different hash for each unique salt)"
   ]
  },
  {
   "cell_type": "markdown",
   "id": "ae0ade07-ceb7-4873-abc9-a48065b892cd",
   "metadata": {},
   "source": [
    "<span style=\"color: blue;\">\n",
    "\n",
    "# TASK-1C:\n",
    "\n",
    "Explore and describe a python library for Zero Knowledge Proofs and propose how this might improve authentication.  (Cite sources)\n",
    "\n",
    "</span>"
   ]
  },
  {
   "cell_type": "markdown",
   "id": "0fbf3cb1-0d2f-4b65-b022-5cbf67c10da9",
   "metadata": {},
   "source": [
    "## Exploring a Python Library for Zero Knowledge Proofs (ZKP)\n",
    "\n",
    "### What is Zero Knowledge Proof (ZKP)?\n",
    "Zero Knowledge Proofs (ZKP) allow one party (the prover) to prove to another party (the verifier) that a certain statement is true without revealing any additional information beyond the validity of the statement. ZKP is widely used in cryptography to enhance privacy and security in systems.\n",
    "\n",
    "### Python Library for ZKP: `pyzpk` [Reference: https://github.com/OpenMined/PyZPK]\n",
    "`pyzpk` is a Python library that provides tools for constructing and verifying Zero Knowledge Proofs. It is based on zk-SNARKs (Zero-Knowledge Succinct Non-Interactive Argument of Knowledge), a popular ZKP technique.\n",
    "\n",
    "#### Features of `pyzpk`:\n",
    "1. **zk-SNARK Implementation**:\n",
    "   - Supports generating zk-SNARK proofs efficiently.\n",
    "   - Provides bindings to underlying C++ libraries like `libsnark`.\n",
    "\n",
    "2. **Circuit Design**:\n",
    "   - Allows defining arithmetic circuits for zk-SNARKs, which represent the computations for the proof.\n",
    "\n",
    "3. **Verifier and Prover Tools**:\n",
    "   - Includes functions for generating proofs (prover) and verifying proofs (verifier).\n",
    "\n",
    "4. **Customizability**:\n",
    "   - Enables users to define specific constraints and proofs tailored to their use case."
   ]
  },
  {
   "cell_type": "markdown",
   "id": "ac98b6af-e4d8-4692-8ffd-1e9d4757ba40",
   "metadata": {},
   "source": [
    "### Example Usage of `pyzpk`:\n",
    "```python\n",
    "from pyzpk import Prover, Verifier, Circuit\n",
    "\n",
    "# Define a simple arithmetic circuit\n",
    "circuit = Circuit()\n",
    "circuit.add_gate(\"add\", [1, 2])  # Adds inputs 1 and 2\n",
    "\n",
    "# Initialize the prover and verifier\n",
    "prover = Prover(circuit)\n",
    "verifier = Verifier(circuit)\n",
    "\n",
    "# Prover generates a proof for a computation\n",
    "proof = prover.generate_proof([3, 5])  # Inputs to the circuit\n",
    "\n",
    "# Verifier checks the proof\n",
    "is_valid = verifier.verify_proof(proof)\n",
    "print(\"Proof is valid:\", is_valid)\n"
   ]
  },
  {
   "cell_type": "markdown",
   "id": "697c9e3b-6008-453f-b356-6e438edb3221",
   "metadata": {},
   "source": [
    "## How ZKP Can Improve Authentication\n",
    "\n",
    "1. **Enhanced Privacy**:  \n",
    "   Traditional authentication systems often rely on sharing sensitive data (e.g., passwords). With ZKP, a user can prove their identity without revealing the actual password or sensitive credentials.\n",
    "\n",
    "2. **Resistance to Credential Leaks**:  \n",
    "   Since no sensitive data is transmitted or stored, ZKP-based systems are inherently resistant to data breaches and credential leaks.\n",
    "\n",
    "3. **Secure Multi-Factor Authentication**:  \n",
    "   ZKP can be used to securely verify multiple factors (e.g., biometric data) without exposing the underlying information.\n",
    "\n",
    "4. **Decentralized Authentication**:  \n",
    "   ZKP can enable decentralized authentication systems, where no central authority needs to hold user credentials. This is particularly useful in blockchain and distributed ledger technologies.\n"
   ]
  },
  {
   "cell_type": "markdown",
   "id": "38b20d78-5252-4313-8fd2-9fb0b8e1f04f",
   "metadata": {},
   "source": [
    "## References\n",
    "\n",
    "1. https://codethechange.stanford.edu/guides/guide_zk.html\n",
    "2. https://en.wikipedia.org/wiki/Zero-knowledge_proof\n",
    "3. https://github.com/OpenMined/PyZPK"
   ]
  },
  {
   "cell_type": "markdown",
   "id": "246bf32c-ea1a-4860-9585-0d433a1f299e",
   "metadata": {},
   "source": [
    "<span style=\"color: blue;\">\n",
    "    \n",
    "# Task-2A:\n",
    "\n",
    "Name one AES encryption mode that requires an Initial Vector (IV) and explain why it is considered more secure than other modes.\n",
    "</span>"
   ]
  },
  {
   "cell_type": "markdown",
   "id": "743b902e-9e4c-4a9b-b813-11785a067735",
   "metadata": {},
   "source": [
    "## AES Encryption Mode with IV: Cipher Block Chaining (CBC)\n",
    "\n",
    "### Overview\n",
    "One commonly used AES encryption mode that requires an **Initial Vector (IV)** is **Cipher Block Chaining (CBC)**. In CBC mode, each plaintext block is XORed with the previous ciphertext block before being encrypted. The process requires an IV for the first block since there is no previous ciphertext block to use.\n",
    "\n",
    "### Why CBC is Considered Secure\n",
    "1. **Randomization with IV**:\n",
    "   - The IV ensures that even if the same plaintext is encrypted multiple times, the resulting ciphertext will be different. This adds randomness and prevents patterns from emerging in the encrypted data.\n",
    "\n",
    "2. **Resistance to Replay Attacks**:\n",
    "   - By changing the IV for each encryption session, CBC mode mitigates replay attacks, ensuring the same plaintext cannot be reused in the same encryption context.\n",
    "\n",
    "3. **Dependency Between Blocks**:\n",
    "   - In CBC, each block of ciphertext depends on all preceding blocks. This makes it harder for an attacker to manipulate individual blocks without affecting the rest of the data.\n",
    "\n",
    "### Key Considerations for Security\n",
    "- **IV Generation**:\n",
    "  The IV must be unique and random for every encryption session. A reused or predictable IV compromises the security of CBC mode.\n",
    "\n",
    "- **Padding Requirements**:\n",
    "  CBC requires the plaintext length to be a multiple of the block size, often necessitating padding schemes such as PKCS#7.\n",
    "\n",
    "### Conclusion\n",
    "The use of an IV in CBC mode significantly improves security by introducing randomness, ensuring unique ciphertext for identical plaintexts, and reducing vulnerability to certain types of cryptanalysis. However, proper IV management is critical to maintain the integrity of the encryption process.\n"
   ]
  },
  {
   "cell_type": "markdown",
   "id": "eacbb83d-7532-4e4f-a3af-10cb46ea8f4a",
   "metadata": {},
   "source": [
    "### Reference\n",
    "**NIST Special Publication 800-38A**: Recommendation for Block Cipher Modes of Operation. Describes the CBC mode and its use cases.  \n",
    "   [NIST SP 800-38A](https://nvlpubs.nist.gov/nistpubs/Legacy/SP/nistspecialpublication800-38a.pdf)"
   ]
  },
  {
   "cell_type": "markdown",
   "id": "7da4b2ed-ac7e-422a-91b4-296e45fa6de3",
   "metadata": {},
   "source": [
    "<span style=\"color: blue;\">\n",
    "    \n",
    "# Task-2B:\n",
    "\n",
    "Name one AES encryption mode that does not require an IV. Answer in a markdown cell.  Use proper citations.\n",
    "</span>"
   ]
  },
  {
   "cell_type": "markdown",
   "id": "1f5ae692-4930-4858-8e40-f6f716ac80ec",
   "metadata": {},
   "source": [
    "## AES Encryption Mode Without IV: Electronic Codebook (ECB)\n",
    "\n",
    "### Overview\n",
    "One AES encryption mode that does not require an Initial Vector (IV) is **Electronic Codebook (ECB)**. In ECB mode, each block of plaintext is encrypted independently using the same key, resulting in a straightforward and deterministic encryption process.\n",
    "\n",
    "### Key Characteristics\n",
    "1. **No IV Requirement**:  \n",
    "   - ECB mode does not utilize an IV, as each plaintext block is processed individually without reference to other blocks.\n",
    "\n",
    "2. **Simplicity**:  \n",
    "   - Its simplicity makes ECB mode faster and easier to implement compared to modes that require IVs, such as CBC.\n",
    "\n",
    "### Security Concerns\n",
    "Although ECB does not require an IV, it is generally considered **less secure** due to its deterministic nature:\n",
    "- **Lack of Randomization**: Identical plaintext blocks produce identical ciphertext blocks, making it vulnerable to pattern recognition.\n",
    "- **Not Suitable for Sensitive Data**: ECB's deterministic encryption makes it inappropriate for encrypting data where privacy and confidentiality are critical.\n",
    "\n",
    "### Reference\n",
    "**NIST Special Publication 800-38A**: Recommendation for Block Cipher Modes of Operation. Details the ECB mode and its limitations.  \n",
    "   [NIST SP 800-38A](https://nvlpubs.nist.gov/nistpubs/Legacy/SP/nistspecialpublication800-38a.pdf)"
   ]
  },
  {
   "cell_type": "markdown",
   "id": "992fa73e-b734-404e-8758-e629b41631bb",
   "metadata": {},
   "source": [
    "<span style=\"color: blue;\">\n",
    "\n",
    "# TASK-3A:\n",
    "\n",
    "Using Scapy, write a Python script that forges a custom TCP SYN packet with the following specifications:\n",
    "- Source IP: 192.168.1.100\n",
    "- Destination IP: 10.0.0.1\n",
    "- Source Port: 4444\n",
    "- Destination Port: 80\n",
    "- Additional Flags: Urgent\n",
    "- Include a custom RAW payload: \"Hello, this is a forged packet!\"\n",
    "\n",
    "The script should:\n",
    "- Display the forged packet details before sending.\n",
    "- Send the packet to the destination.\n",
    "- Use Scapy's sr1() method to capture and print the response if one is received.\n",
    "</span>"
   ]
  },
  {
   "cell_type": "code",
   "execution_count": 3,
   "id": "8875231b-4aef-40c9-ba25-ad75fc430adc",
   "metadata": {},
   "outputs": [
    {
     "name": "stdout",
     "output_type": "stream",
     "text": [
      "Forged Packet Details:\n",
      "###[ IP ]### \n",
      "  version   = 4\n",
      "  ihl       = None\n",
      "  tos       = 0x0\n",
      "  len       = None\n",
      "  id        = 1\n",
      "  flags     = \n",
      "  frag      = 0\n",
      "  ttl       = 64\n",
      "  proto     = tcp\n",
      "  chksum    = None\n",
      "  src       = 192.168.1.100\n",
      "  dst       = 10.0.0.1\n",
      "  \\options   \\\n",
      "###[ TCP ]### \n",
      "     sport     = 4444\n",
      "     dport     = http\n",
      "     seq       = 0\n",
      "     ack       = 0\n",
      "     dataofs   = None\n",
      "     reserved  = 0\n",
      "     flags     = U\n",
      "     window    = 8192\n",
      "     chksum    = None\n",
      "     urgptr    = 0\n",
      "     options   = []\n",
      "###[ Raw ]### \n",
      "        load      = 'Hello, this is a forged packet!'\n",
      "\n",
      "\n",
      "Sending the packet...\n",
      "\n",
      "No response received.\n"
     ]
    }
   ],
   "source": [
    "from scapy.all import IP, TCP, Raw, sr1\n",
    "\n",
    "def forge_packet():\n",
    "    # Define the source IP address (make sure this is allowed and authorized)\n",
    "    source_ip = \"192.168.1.100\"  # Replace with the correct IP address for authorized testing\n",
    "\n",
    "    # Define the destination IP address (ensure proper permissions)\n",
    "    destination_ip = \"10.0.0.1\"  # Target IP address for testing\n",
    "\n",
    "    # Specify the source port (use an unprivileged port number if testing)\n",
    "    source_port = 4444  # Arbitrary source port for the packet\n",
    "\n",
    "    # Specify the destination port (ensure compliance with target's allowed services)\n",
    "    destination_port = 80  # HTTP port for testing\n",
    "\n",
    "    # Define the raw payload to be included in the packet (ensure no sensitive information is included)\n",
    "    raw_payload = \"Hello, this is a forged packet!\"  # Custom payload for testing purposes\n",
    "\n",
    "    # Create the IP layer with the source and destination IP addresses\n",
    "    ip_layer = IP(src=source_ip, dst=destination_ip)\n",
    "\n",
    "    # Create the TCP layer with source and destination ports, and set the URGENT flag as per the HW assignment requirement\n",
    "    tcp_layer = TCP(sport=source_port, dport=destination_port, flags=\"U\")\n",
    "\n",
    "    # Add a raw data layer containing the custom payload\n",
    "    raw_layer = Raw(load=raw_payload)\n",
    "\n",
    "    # Combine the IP, TCP, and raw layers to form the complete packet\n",
    "    packet = ip_layer / tcp_layer / raw_layer\n",
    "\n",
    "    # Display the details of the forged packet to verify its structure\n",
    "    print(\"Forged Packet Details:\")\n",
    "    packet.show()  # Scapy's show() method displays packet details\n",
    "\n",
    "    # Send the forged packet and wait for a response (use timeout to avoid indefinite waiting)\n",
    "    print(\"\\nSending the packet...\")\n",
    "    response = sr1(packet, timeout=2, verbose=0)  # sr1 sends and waits for one response\n",
    "\n",
    "    # Check if a response was received and display it\n",
    "    if response:\n",
    "        print(\"\\nResponse Received:\")\n",
    "        response.show()  # Display the response details\n",
    "    else:\n",
    "        print(\"\\nNo response received.\")  # Notify if no response is received\n",
    "\n",
    "# Run the function only when the script is executed directly\n",
    "if __name__ == \"__main__\":\n",
    "    # Ensure the script is run with appropriate permissions (root/administrator)\n",
    "    try:\n",
    "        forge_packet()  # Call the main function to forge and send the packet\n",
    "    except PermissionError:\n",
    "        print(\"Error: Please run the script with elevated permissions.\")  # Handle insufficient permissions\n",
    "    except Exception as e:\n",
    "        print(f\"An error occurred: {e}\")  # Handle any unexpected errors securely"
   ]
  },
  {
   "cell_type": "markdown",
   "id": "c2d7b9cb-ecc5-46e4-9a02-9b49e7222e15",
   "metadata": {},
   "source": [
    "<span style=\"color: blue;\">\n",
    "\n",
    "# TASK-3B:\n",
    "Explain how this kind of packet could be used in security testing.\n",
    "</span>"
   ]
  },
  {
   "cell_type": "markdown",
   "id": "20987f7c-4c29-41a8-b7a8-a3b26fffbbd1",
   "metadata": {},
   "source": [
    "Crafting and sending custom packets with Scapy, as demonstrated in the above code, is a powerful technique for conducting various types of security tests. Below are some common use cases:\n",
    "\n",
    "### 1. **Penetration Testing**\n",
    "   - **Purpose**: Simulate potential attacks on a target system to identify vulnerabilities.\n",
    "   - **Example**: Sending custom TCP SYN packets to test how the target handles malformed or unexpected connection requests, potentially revealing misconfigurations or weaknesses in firewalls and intrusion detection systems.\n",
    "\n",
    "### 2. **Firewall and IDS/IPS Testing**\n",
    "   - **Purpose**: Assess the effectiveness of security appliances like firewalls and intrusion detection/prevention systems (IDS/IPS).\n",
    "   - **Example**: Forge packets with unexpected flags (e.g., URGENT) or payloads to see if the security device correctly blocks or logs these anomalies.\n",
    "\n",
    "### 3. **Protocol Testing**\n",
    "   - **Purpose**: Evaluate the robustness and compliance of network services with protocol standards.\n",
    "   - **Example**: Send packets with non-standard or corrupted headers to identify potential buffer overflows or crashes in the service.\n",
    "\n",
    "### 4. **Network Forensics**\n",
    "   - **Purpose**: Simulate attacks or traffic patterns to study how the network behaves under certain conditions.\n",
    "   - **Example**: Generate traffic to observe how network monitoring tools log and analyze the activity.\n",
    "\n",
    "### 5. **Stress Testing**\n",
    "   - **Purpose**: Determine how well a target system performs under heavy or unusual network traffic.\n",
    "   - **Example**: Send a high volume of crafted packets to evaluate the system’s resilience and capacity to handle load.\n",
    "\n",
    "### 6. **Testing Application-Level Security**\n",
    "   - **Purpose**: Test how applications handle malicious or unexpected input in network payloads.\n",
    "   - **Example**: Include custom payloads in TCP packets to verify if the application appropriately sanitizes and validates input.\n",
    "\n",
    "### Conclusion\n",
    "The ability to craft and send custom packets using Scapy is invaluable for security professionals. When used responsibly, it provides deep insights into the security posture of systems and helps identify areas for improvement.\n"
   ]
  },
  {
   "cell_type": "markdown",
   "id": "e6f0f9e4-68d4-42aa-924b-02407a0ecad9",
   "metadata": {},
   "source": [
    "<span style=\"color: blue;\">\n",
    "\n",
    "# TASK-3C:\n",
    "What are the ethical considerations of forging and sending custom packets?\n",
    "</span>"
   ]
  },
  {
   "cell_type": "markdown",
   "id": "70adafb5-1e40-47ca-b8fd-90864e01131d",
   "metadata": {},
   "source": [
    "Forging and sending custom packets is a powerful capability, but it must be used responsibly and ethically to avoid legal, technical, and reputational issues. Below are the key ethical considerations:\n",
    "\n",
    "## 1. **Authorization**\n",
    "   - Always obtain explicit permission from the system or network owner before conducting any tests.\n",
    "   - Unauthorized activity can be classified as illegal hacking and may lead to severe legal consequences.\n",
    "\n",
    "## 2. **Legal Compliance**\n",
    "   - Ensure compliance with all relevant laws and regulations in your jurisdiction, such as the **Computer Fraud and Abuse Act (CFAA)** in the U.S. or the **General Data Protection Regulation (GDPR)** in the EU.\n",
    "   - Forging packets without authorization can violate cybersecurity laws, even if done with good intentions.\n",
    "\n",
    "## 3. **Define the Scope**\n",
    "   - Work within a clearly defined and agreed-upon scope for testing.\n",
    "   - Avoid testing outside the target system or network to prevent unintended disruptions to unrelated systems.\n",
    "\n",
    "## 4. **Minimize Impact**\n",
    "   - Design tests to avoid causing harm, such as service disruptions, data corruption, or denial of service.\n",
    "   - Use test environments, simulations, or isolated networks whenever possible to ensure safety.\n",
    "\n",
    "## 5. **Transparency**\n",
    "   - Inform stakeholders, including network administrators and security teams, about the purpose and methods of the test.\n",
    "   - Provide clear documentation and reports on the findings.\n",
    "\n",
    "## 6. **Confidentiality**\n",
    "   - Protect any sensitive information encountered during testing.\n",
    "   - Avoid exposing vulnerabilities publicly without first coordinating with the affected parties.\n",
    "\n",
    "## 7. **Intent and Purpose**\n",
    "   - Use custom packet forging strictly for legitimate purposes, such as security research, penetration testing, or educational learning.\n",
    "   - Avoid using such capabilities for malicious purposes, such as stealing data or causing damage.\n",
    "\n",
    "## 8. **Avoid Collateral Damage**\n",
    "   - Ensure that tests do not unintentionally affect third-party systems or networks.\n",
    "   - Use tools like Scapy responsibly to control the scope and impact of your activities.\n",
    "\n",
    "## Conclusion\n",
    "Forging and sending custom packets is a double-edged sword. While it is a valuable tool for security testing and research, it carries significant ethical responsibilities. Following these guidelines ensures that your actions are both effective and aligned with ethical standards."
   ]
  },
  {
   "cell_type": "markdown",
   "id": "92b132f5-d548-45ec-87eb-2c12d07e7ae6",
   "metadata": {},
   "source": [
    "<span style=\"color: blue;\">\n",
    "\n",
    "# TASK-4:\n",
    "Using Beautiful Soup – scrape text from https://quotes.toscrape.com/.  Print the text to the screen.  This is good practice for building text datasets but be sure to check the web site's acceptable use policy before scraping a site.\n",
    "</span>"
   ]
  },
  {
   "cell_type": "code",
   "execution_count": 4,
   "id": "65803e23-98ed-4694-b459-c99578d56ded",
   "metadata": {},
   "outputs": [
    {
     "name": "stdout",
     "output_type": "stream",
     "text": [
      "Requirement already satisfied: requests in c:\\users\\vchir\\.conda\\envs\\deng\\lib\\site-packages (2.32.3)\n",
      "Requirement already satisfied: beautifulsoup4 in c:\\users\\vchir\\.conda\\envs\\deng\\lib\\site-packages (4.12.3)\n",
      "Requirement already satisfied: charset-normalizer<4,>=2 in c:\\users\\vchir\\.conda\\envs\\deng\\lib\\site-packages (from requests) (3.3.2)\n",
      "Requirement already satisfied: idna<4,>=2.5 in c:\\users\\vchir\\.conda\\envs\\deng\\lib\\site-packages (from requests) (3.7)\n",
      "Requirement already satisfied: urllib3<3,>=1.21.1 in c:\\users\\vchir\\.conda\\envs\\deng\\lib\\site-packages (from requests) (2.2.3)\n",
      "Requirement already satisfied: certifi>=2017.4.17 in c:\\users\\vchir\\.conda\\envs\\deng\\lib\\site-packages (from requests) (2024.8.30)\n",
      "Requirement already satisfied: soupsieve>1.2 in c:\\users\\vchir\\.conda\\envs\\deng\\lib\\site-packages (from beautifulsoup4) (2.5)\n"
     ]
    }
   ],
   "source": [
    "!pip install requests beautifulsoup4"
   ]
  },
  {
   "cell_type": "markdown",
   "id": "78a994a8-689a-47d9-98cc-2c082dae3dad",
   "metadata": {},
   "source": [
    "## Check the web site's acceptable use policy before scraping a site"
   ]
  },
  {
   "cell_type": "markdown",
   "id": "bc4da8d0-919c-42f9-bed8-f10a20d9ae9c",
   "metadata": {},
   "source": [
    "I have reviewed the [Terms of Service](https://quotes.toscrape.com/) and verified that this website is designed explicitly for educational purposes and allows scraping for learning. The site seems like a sandbox environment for practicing web scraping."
   ]
  },
  {
   "cell_type": "markdown",
   "id": "008b8aac-31dd-4b32-a829-da4ed55970b0",
   "metadata": {},
   "source": [
    "## Python code"
   ]
  },
  {
   "cell_type": "code",
   "execution_count": 5,
   "id": "7734026d-6149-425a-b0ee-924e16abccaa",
   "metadata": {},
   "outputs": [
    {
     "name": "stdout",
     "output_type": "stream",
     "text": [
      "Quotes from https://quotes.toscrape.com/:\n",
      "“The world as we have created it is a process of our thinking. It cannot be changed without changing our thinking.”\n",
      "“It is our choices, Harry, that show what we truly are, far more than our abilities.”\n",
      "“There are only two ways to live your life. One is as though nothing is a miracle. The other is as though everything is a miracle.”\n",
      "“The person, be it gentleman or lady, who has not pleasure in a good novel, must be intolerably stupid.”\n",
      "“Imperfection is beauty, madness is genius and it's better to be absolutely ridiculous than absolutely boring.”\n",
      "“Try not to become a man of success. Rather become a man of value.”\n",
      "“It is better to be hated for what you are than to be loved for what you are not.”\n",
      "“I have not failed. I've just found 10,000 ways that won't work.”\n",
      "“A woman is like a tea bag; you never know how strong it is until it's in hot water.”\n",
      "“A day without sunshine is like, you know, night.”\n"
     ]
    }
   ],
   "source": [
    "import requests\n",
    "from bs4 import BeautifulSoup\n",
    "\n",
    "# URL of the website to scrape\n",
    "url = \"https://quotes.toscrape.com/\"\n",
    "\n",
    "# Send an HTTP GET request to the website\n",
    "response = requests.get(url)\n",
    "\n",
    "# Check if the request was successful\n",
    "if response.status_code == 200:\n",
    "    # Parse the HTML content using BeautifulSoup\n",
    "    soup = BeautifulSoup(response.content, \"html.parser\")\n",
    "\n",
    "    # Find all quote elements\n",
    "    quotes = soup.find_all(\"span\", class_=\"text\")\n",
    "\n",
    "    # Print each quote to the screen\n",
    "    print(\"Quotes from https://quotes.toscrape.com/:\")\n",
    "    for quote in quotes:\n",
    "        print(quote.get_text())\n",
    "else:\n",
    "    print(f\"Failed to fetch the website. Status code: {response.status_code}\")"
   ]
  }
 ],
 "metadata": {
  "kernelspec": {
   "display_name": "Python 3 (ipykernel)",
   "language": "python",
   "name": "python3"
  },
  "language_info": {
   "codemirror_mode": {
    "name": "ipython",
    "version": 3
   },
   "file_extension": ".py",
   "mimetype": "text/x-python",
   "name": "python",
   "nbconvert_exporter": "python",
   "pygments_lexer": "ipython3",
   "version": "3.10.13"
  }
 },
 "nbformat": 4,
 "nbformat_minor": 5
}
