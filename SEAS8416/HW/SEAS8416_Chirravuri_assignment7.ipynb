{
 "cells": [
  {
   "cell_type": "markdown",
   "id": "63d0d2f8-7b68-4333-901c-95af865dff9d",
   "metadata": {},
   "source": [
    "# HW7\n",
    "\n",
    "## Author: Viswanath S Chirravuri\n",
    "\n",
    "Setup a CTI feed from a public CTI provider (AlienVault is fine).  You may have to register to get an API Key.  Ensure your API key is not in your source code.  You will need to reference an operating system environment variable.  Test the feed by pulling intel for a particular known bad IP, domain host name or other identifying feature.  Write a short summary of the intel that was downloaded in a markdown cell."
   ]
  },
  {
   "cell_type": "code",
   "execution_count": 2,
   "id": "71f853a8-ef6b-4b69-ba71-42287ec701a5",
   "metadata": {},
   "outputs": [
    {
     "name": "stdout",
     "output_type": "stream",
     "text": [
      "API Key successfully retrieved!\n"
     ]
    }
   ],
   "source": [
    "# Just to test my environment variable\n",
    "import os\n",
    "\n",
    "api_key = os.getenv(\"ALIENVAULT_API_KEY\")\n",
    "if api_key:\n",
    "    print(\"API Key successfully retrieved!\")\n",
    "else:\n",
    "    print(\"Failed to retrieve API Key.\")\n"
   ]
  },
  {
   "cell_type": "code",
   "execution_count": 8,
   "id": "6b252b13-c7e2-4a1a-a2d9-a15a5ef3cfc4",
   "metadata": {},
   "outputs": [],
   "source": [
    "import os\n",
    "import requests\n",
    "\n",
    "def get_cti_data(ip_or_domain):\n",
    "    \"\"\"\n",
    "    Pulls threat intelligence data for a given IP or domain from AlienVault OTX API.\n",
    "\n",
    "    :param ip_or_domain: The IP or domain to query (string)\n",
    "    :return: Parsed JSON data from the API response (dict)\n",
    "    \"\"\"\n",
    "    # Fetch the API key from the environment variable\n",
    "    api_key = os.getenv(\"ALIENVAULT_API_KEY\")\n",
    "\n",
    "    if not api_key:\n",
    "        raise ValueError(\"AlienVault API key not found in environment variables.\")\n",
    "\n",
    "    url = f\"https://otx.alienvault.com/api/v1/indicators/hostname/{ip_or_domain}/passive_dns\"\n",
    "    headers = {\"X-OTX-API-KEY\": api_key}\n",
    "\n",
    "    response = requests.get(url, headers=headers)\n",
    "\n",
    "    if response.status_code == 200:\n",
    "        return response.json()\n",
    "    else:\n",
    "        response.raise_for_status()"
   ]
  },
  {
   "cell_type": "code",
   "execution_count": 9,
   "id": "65fb91d1-2280-4210-a8a2-05a6a258c282",
   "metadata": {},
   "outputs": [
    {
     "name": "stdout",
     "output_type": "stream",
     "text": [
      "Threat Intelligence Data:\n",
      "{'passive_dns': [{'address': 'ns1.theangeles-here.com', 'first': '2022-06-17T18:33:31', 'last': '2022-06-17T18:33:34', 'hostname': 'www.apple-alerts.us', 'record_type': 'NS', 'indicator_link': '/indicator/hostname/www.apple-alerts.us', 'flag_url': '', 'flag_title': '', 'asset_type': 'hostname', 'asn': None}, {'address': '162.240.32.48', 'first': '2022-06-17T18:33:31', 'last': '2022-06-17T18:33:34', 'hostname': 'www.apple-alerts.us', 'record_type': 'A', 'indicator_link': '/indicator/hostname/www.apple-alerts.us', 'flag_url': 'assets/images/flags/us.png', 'flag_title': 'United States', 'asset_type': 'hostname', 'asn': 'AS46606 unified layer'}, {'address': 'ns2.theangeles-here.com', 'first': '2022-06-17T18:33:31', 'last': '2022-06-17T18:33:34', 'hostname': 'www.apple-alerts.us', 'record_type': 'NS', 'indicator_link': '/indicator/hostname/www.apple-alerts.us', 'flag_url': '', 'flag_title': '', 'asset_type': 'hostname', 'asn': None}, {'address': 'ns1.theangeles-here.com', 'first': '2022-06-17T18:33:30', 'last': '2022-06-20T08:39:47', 'hostname': 'apple-alerts.us', 'record_type': 'SOA', 'indicator_link': '/indicator/domain/apple-alerts.us', 'flag_url': '', 'flag_title': '', 'asset_type': 'domain', 'asn': None}, {'address': 'ns1.theangeles-here.com', 'first': '2022-06-17T18:33:30', 'last': '2022-06-20T08:39:47', 'hostname': 'apple-alerts.us', 'record_type': 'NS', 'indicator_link': '/indicator/domain/apple-alerts.us', 'flag_url': '', 'flag_title': '', 'asset_type': 'domain', 'asn': None}, {'address': 'ns2.theangeles-here.com', 'first': '2022-06-17T18:33:30', 'last': '2022-06-20T08:39:47', 'hostname': 'apple-alerts.us', 'record_type': 'NS', 'indicator_link': '/indicator/domain/apple-alerts.us', 'flag_url': '', 'flag_title': '', 'asset_type': 'domain', 'asn': None}, {'address': '162.240.32.48', 'first': '2022-06-17T18:33:30', 'last': '2022-06-20T08:39:47', 'hostname': 'apple-alerts.us', 'record_type': 'A', 'indicator_link': '/indicator/domain/apple-alerts.us', 'flag_url': 'assets/images/flags/us.png', 'flag_title': 'United States', 'asset_type': 'domain', 'asn': 'AS46606 unified layer'}, {'address': '194.58.90.124', 'first': '2020-09-08T11:08:16', 'last': '2020-09-08T11:08:16', 'hostname': 'apple-alerts.us', 'record_type': 'A', 'indicator_link': '/indicator/domain/apple-alerts.us', 'flag_url': 'assets/images/flags/ru.png', 'flag_title': 'Russia', 'asset_type': 'domain', 'asn': 'AS197695 domain names registrar reg.ru  ltd'}, {'address': '2a00:f940:2:1:2::a61', 'first': '2020-09-08T11:08:16', 'last': '2020-09-08T11:08:16', 'hostname': 'apple-alerts.us', 'record_type': 'AAAA', 'indicator_link': '/indicator/domain/apple-alerts.us', 'flag_url': 'assets/images/flags/ru.png', 'flag_title': 'Russia', 'asset_type': 'domain', 'asn': 'AS197695 domain names registrar reg.ru  ltd'}, {'address': '2a00:f940:2:1:2::a61', 'first': '2020-09-08T11:08:16', 'last': '2020-09-08T11:08:16', 'hostname': 'www.apple-alerts.us', 'record_type': 'AAAA', 'indicator_link': '/indicator/hostname/www.apple-alerts.us', 'flag_url': 'assets/images/flags/ru.png', 'flag_title': 'Russia', 'asset_type': 'hostname', 'asn': 'AS197695 domain names registrar reg.ru  ltd'}, {'address': '194-58-90-124.ovz.vps.regruhosting.ru', 'first': '2020-09-08T11:08:16', 'last': '2020-09-08T11:08:16', 'hostname': 'apple-alerts.us', 'record_type': 'SOA', 'indicator_link': '/indicator/domain/apple-alerts.us', 'flag_url': 'assets/images/flags/ru.png', 'flag_title': 'Russia', 'asset_type': 'domain', 'asn': 'AS197695 domain names registrar reg.ru  ltd'}, {'address': '194.58.90.124', 'first': '2020-09-08T11:08:16', 'last': '2020-09-08T11:08:16', 'hostname': 'www.apple-alerts.us', 'record_type': 'A', 'indicator_link': '/indicator/hostname/www.apple-alerts.us', 'flag_url': 'assets/images/flags/ru.png', 'flag_title': 'Russia', 'asset_type': 'hostname', 'asn': 'AS197695 domain names registrar reg.ru  ltd'}, {'address': '46.183.163.196', 'first': '2019-11-14T19:00:11', 'last': '2019-11-14T19:00:11', 'hostname': 'apple-alerts.us', 'record_type': 'A', 'indicator_link': '/indicator/domain/apple-alerts.us', 'flag_url': 'assets/images/flags/ru.png', 'flag_title': 'Russia', 'asset_type': 'domain', 'asn': 'AS197695 domain names registrar reg.ru  ltd'}, {'address': '2a00:f940:2:1:2::47b', 'first': '2019-11-14T18:59:57', 'last': '2019-11-14T18:59:57', 'hostname': 'apple-alerts.us', 'record_type': 'AAAA', 'indicator_link': '/indicator/domain/apple-alerts.us', 'flag_url': 'assets/images/flags/ru.png', 'flag_title': 'Russia', 'asset_type': 'domain', 'asn': 'AS197695 domain names registrar reg.ru  ltd'}, {'address': '46.183.163.196', 'first': '2019-11-14T18:59:56', 'last': '2019-12-18T04:18:09', 'hostname': 'www.apple-alerts.us', 'record_type': 'A', 'indicator_link': '/indicator/hostname/www.apple-alerts.us', 'flag_url': 'assets/images/flags/ru.png', 'flag_title': 'Russia', 'asset_type': 'hostname', 'asn': 'AS197695 domain names registrar reg.ru  ltd'}, {'address': 'ns5.hosting.reg.ru', 'first': '2019-11-12T00:56:11', 'last': '2020-09-08T11:08:16', 'hostname': 'apple-alerts.us', 'record_type': 'NS', 'indicator_link': '/indicator/domain/apple-alerts.us', 'flag_url': 'assets/images/flags/ru.png', 'flag_title': 'Russia', 'asset_type': 'domain', 'asn': 'AS197695 domain names registrar reg.ru  ltd'}, {'address': 'ns6.hosting.reg.ru', 'first': '2019-11-12T00:56:11', 'last': '2020-09-08T11:08:16', 'hostname': 'apple-alerts.us', 'record_type': 'NS', 'indicator_link': '/indicator/domain/apple-alerts.us', 'flag_url': 'assets/images/flags/ru.png', 'flag_title': 'Russia', 'asset_type': 'domain', 'asn': 'AS197695 domain names registrar reg.ru  ltd'}, {'address': 'gamaa.com', 'first': '2019-11-12T00:56:11', 'last': '2019-11-12T00:56:11', 'hostname': 'apple-alerts.us', 'record_type': 'SOA', 'indicator_link': '/indicator/domain/apple-alerts.us', 'flag_url': 'assets/images/flags/us.png', 'flag_title': 'United States', 'asset_type': 'domain', 'asn': 'AS16509 amazon.com inc'}], 'count': 18}\n"
     ]
    }
   ],
   "source": [
    "# Test the CTI feed setup\n",
    "if __name__ == \"__main__\":\n",
    "    test_domain = \"apple-alerts.us\"  # Known bad domain (based on my Google search)\n",
    "\n",
    "    try:\n",
    "        cti_data = get_cti_data(test_domain)\n",
    "        print(\"Threat Intelligence Data:\")\n",
    "        print(cti_data)\n",
    "    except Exception as e:\n",
    "        print(f\"Error retrieving CTI data: {e}\")"
   ]
  },
  {
   "cell_type": "markdown",
   "id": "cb2a6a72-c2a2-4b49-a2df-abf6e1fdac79",
   "metadata": {},
   "source": [
    "## Threat Intelligence Summary\n",
    "\n",
    "### Overview\n",
    "The threat intelligence data retrieved provides information about the domain `apple-alerts.us` and its associated indicators. The analysis includes passive DNS records, geolocations, and hosting details. Below is a summary of the findings.\n",
    "\n",
    "### Key Findings\n",
    "\n",
    "#### Associated Hostnames and IPs\n",
    "- **Domain**: `apple-alerts.us`\n",
    "- **Hostnames**:\n",
    "  - `www.apple-alerts.us`\n",
    "- **IP Addresses**:\n",
    "  - `162.240.32.48` (United States)\n",
    "  - `194.58.90.124` (Russia)\n",
    "  - `46.183.163.196` (Russia)\n",
    "  - `2a00:f940:2:1:2::a61` (Russia)\n",
    "  - `2a00:f940:2:1:2::47b` (Russia)\n",
    "\n",
    "#### Hosting and ASN Details\n",
    "- **United States**:\n",
    "  - `162.240.32.48`\n",
    "  - ASN: `AS46606 (Unified Layer)`\n",
    "- **Russia**:\n",
    "  - `194.58.90.124`, `46.183.163.196`, `2a00:f940:2:1:2::a61`, `2a00:f940:2:1:2::47b`\n",
    "  - ASN: `AS197695 (Domain Names Registrar REG.RU Ltd)`\n",
    "\n",
    "#### Passive DNS Records\n",
    "- **Record Types**:\n",
    "  - A: `162.240.32.48`, `194.58.90.124`, `46.183.163.196`\n",
    "  - AAAA: `2a00:f940:2:1:2::a61`, `2a00:f940:2:1:2::47b`\n",
    "  - NS: `ns1.theangeles-here.com`, `ns2.theangeles-here.com`\n",
    "  - SOA: Multiple records found\n",
    "\n",
    "#### Geolocation Insights\n",
    "- The hosting infrastructure for this domain is distributed across the United States and Russia, with a significant number of IPs originating from Russia.\n",
    "\n",
    "#### Additional Observations\n",
    "- Multiple NS records indicate distributed name server infrastructure.\n",
    "- Hosting providers are linked to both US-based (Unified Layer) and Russian-based (REG.RU) providers.\n",
    "\n",
    "### Conclusion\n",
    "The domain `apple-alerts.us` has suspicious indicators due to its association with Russian hosting providers and IPs, which could signify malicious activity. Further investigation is recommended to assess its involvement in potential cyber threats.\n"
   ]
  }
 ],
 "metadata": {
  "kernelspec": {
   "display_name": "Python 3 (ipykernel)",
   "language": "python",
   "name": "python3"
  },
  "language_info": {
   "codemirror_mode": {
    "name": "ipython",
    "version": 3
   },
   "file_extension": ".py",
   "mimetype": "text/x-python",
   "name": "python",
   "nbconvert_exporter": "python",
   "pygments_lexer": "ipython3",
   "version": "3.10.13"
  }
 },
 "nbformat": 4,
 "nbformat_minor": 5
}
